{
 "cells": [
  {
   "cell_type": "code",
   "execution_count": null,
   "metadata": {},
   "outputs": [],
   "source": [
    "import random\n",
    "from dlkp.models import KeyphraseTagger\n",
    "from dlkp.datasets.extraction import load_dataset\n",
    "from dlkp.metrics.metrics import compute_kp_level_metrics"
   ]
  },
  {
   "cell_type": "code",
   "execution_count": null,
   "metadata": {},
   "outputs": [],
   "source": [
    "tagger = KeyphraseTagger.load(\n",
    "    model_name_or_path=\"midas/roberta-large-inspec-finetuned-crf\"\n",
    ")"
   ]
  },
  {
   "cell_type": "code",
   "execution_count": null,
   "metadata": {},
   "outputs": [],
   "source": [
    "# get the inspec corpus from Huggingface and choose a random sample from it\n",
    "test_data = load_dataset(\"midas/inspec\", \"raw\")[\"test\"]\n",
    "samples = [sample for sample in test_data]\n",
    "random_sample = random.choice(samples)\n",
    "\n",
    "print(\"Input Document:\")\n",
    "print(\" \".join(random_sample[\"document\"]))\n",
    "print(\"\\n----\\n\")\n",
    "print(\"Extractive Keyphrases:\")\n",
    "print(random_sample[\"extractive_keyphrases\"])"
   ]
  },
  {
   "cell_type": "code",
   "execution_count": null,
   "metadata": {},
   "outputs": [],
   "source": [
    "# perform prediction on the input text\n",
    "predictions = tagger.predict(\" \".join(random_sample[\"document\"]))\n",
    "predicted_kps = []\n",
    "for keyphrase in predictions[0]:\n",
    "    keyphrase = keyphrase.strip()\n",
    "    predicted_kps.append(keyphrase)\n",
    "    print(keyphrase)"
   ]
  },
  {
   "cell_type": "code",
   "execution_count": null,
   "metadata": {},
   "outputs": [],
   "source": [
    "compute_kp_level_metrics(originals=random_sample[\"extractive_keyphrases\"], predictions=predicted_kps)"
   ]
  }
 ],
 "metadata": {
  "kernelspec": {
   "display_name": "venv",
   "language": "python",
   "name": "venv"
  },
  "language_info": {
   "codemirror_mode": {
    "name": "ipython",
    "version": 3
   },
   "file_extension": ".py",
   "mimetype": "text/x-python",
   "name": "python",
   "nbconvert_exporter": "python",
   "pygments_lexer": "ipython3",
   "version": "3.8.10"
  }
 },
 "nbformat": 4,
 "nbformat_minor": 4
}
